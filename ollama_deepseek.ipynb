{
 "cells": [
  {
   "cell_type": "code",
   "execution_count": 1,
   "metadata": {},
   "outputs": [
    {
     "name": "stdout",
     "output_type": "stream",
     "text": [
      "<think>\n",
      "Okay, I need to understand what the user is asking for. They provided a JSON file named f with their username and some content. They want me to figure out how this file relates to the rest of the conversation.\n",
      "\n",
      "Hmm, looking at their message, they've included a link to a Jupyter notebook: \"https://github.com/username/repo/...\" but didn't finish it yet. Maybe I should ask them to provide more details so I can continue effectively.\n",
      "</think>\n",
      "\n",
      "It seems like you're providing a JSON file `f` as part of your message, but there's incomplete content following the URL link.\n",
      "\n",
      "Could you complete or clarify what this file contains? If you need assistance with the Jupyter notebook or any other content related to it, please provide more details.\n",
      "\n"
     ]
    }
   ],
   "source": [
    "import argparse\n",
    "\n",
    "from ollama import chat\n",
    "from ollama import ChatResponse\n",
    "\n",
    "\n",
    "parser = argparse.ArgumentParser(description=\"User input string\")\n",
    "parser.add_argument(\"ask_input\", type=str, help=\"The string to be used as input\")\n",
    "\n",
    "args = parser.parse_args()\n",
    "model = \"deepseek-r1:1.5b\"\n",
    "\n",
    "response: ChatResponse = chat(\n",
    "    model=model, messages=[\n",
    "        {\n",
    "            'role': 'user',\n",
    "            'content': args.ask_input,\n",
    "        }\n",
    "    ],\n",
    "    stream=True\n",
    ")\n",
    "\n",
    "# print(response.message.content)\n",
    "for chunk in response:\n",
    "    print(chunk['message']['content'], end='', flush=True)\n",
    "print(\"\\n\")"
   ]
  }
 ],
 "metadata": {
  "kernelspec": {
   "display_name": "ml",
   "language": "python",
   "name": "python3"
  },
  "language_info": {
   "codemirror_mode": {
    "name": "ipython",
    "version": 3
   },
   "file_extension": ".py",
   "mimetype": "text/x-python",
   "name": "python",
   "nbconvert_exporter": "python",
   "pygments_lexer": "ipython3",
   "version": "3.9.19"
  }
 },
 "nbformat": 4,
 "nbformat_minor": 2
}
